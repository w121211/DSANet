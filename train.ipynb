{
 "cells": [
  {
   "cell_type": "code",
   "execution_count": 5,
   "metadata": {},
   "outputs": [
    {
     "name": "stdout",
     "output_type": "stream",
     "text": [
      "/workspace/DSANet\n",
      "----------------------------------------------------------------------------------------------------\n",
      "Hyperparameters:\n",
      "test_tube_save_path : /workspace/DSANet/dsanet_logs/test_tube_data\n",
      "model_save_path     : /workspace/DSANet/dsanet_logs/model_weights\n",
      "local               : 3\n",
      "n_kernels           : 32\n",
      "w_kernel            : 1\n",
      "d_model             : 512\n",
      "d_inner             : 2048\n",
      "d_k                 : 64\n",
      "d_v                 : 64\n",
      "n_head              : 8\n",
      "n_layers            : 6\n",
      "drop_prob           : 0.1\n",
      "data_name           : Pollution\n",
      "data_dir            : .\\data\n",
      "n_multiv            : 7\n",
      "window              : 64\n",
      "horizon             : 3\n",
      "learning_rate       : 0.005\n",
      "optimizer_name      : adam\n",
      "criterion           : mse_loss\n",
      "batch_size          : 16\n",
      "hpc_exp_number      : None\n",
      "trials              : <bound method HyperOptArgumentParser.opt_trials of HyperOptArgumentParser(prog='single_cpu_trainer.py', usage=None, description=None, formatter_class=<class 'argparse.HelpFormatter'>, conflict_handler='error', add_help=True)>\n",
      "optimize_parallel   : <bound method HyperOptArgumentParser.optimize_parallel of HyperOptArgumentParser(prog='single_cpu_trainer.py', usage=None, description=None, formatter_class=<class 'argparse.HelpFormatter'>, conflict_handler='error', add_help=True)>\n",
      "optimize_parallel_gpu: <bound method HyperOptArgumentParser.optimize_parallel_gpu of HyperOptArgumentParser(prog='single_cpu_trainer.py', usage=None, description=None, formatter_class=<class 'argparse.HelpFormatter'>, conflict_handler='error', add_help=True)>\n",
      "optimize_parallel_cpu: <bound method HyperOptArgumentParser.optimize_parallel_cpu of HyperOptArgumentParser(prog='single_cpu_trainer.py', usage=None, description=None, formatter_class=<class 'argparse.HelpFormatter'>, conflict_handler='error', add_help=True)>\n",
      "generate_trials     : <bound method HyperOptArgumentParser.generate_trials of HyperOptArgumentParser(prog='single_cpu_trainer.py', usage=None, description=None, formatter_class=<class 'argparse.HelpFormatter'>, conflict_handler='error', add_help=True)>\n",
      "optimize_trials_parallel_gpu: <bound method HyperOptArgumentParser.optimize_trials_parallel_gpu of HyperOptArgumentParser(prog='single_cpu_trainer.py', usage=None, description=None, formatter_class=<class 'argparse.HelpFormatter'>, conflict_handler='error', add_help=True)>\n",
      "\n",
      "RUNNING ON CPU\n",
      "loading model...\n",
      "model built\n",
      "Traceback (most recent call last):\n",
      "  File \"single_cpu_trainer.py\", line 103, in <module>\n",
      "    main(hyperparams)\n",
      "  File \"single_cpu_trainer.py\", line 70, in main\n",
      "    m_trainer.fit(model)\n",
      "  File \"/opt/conda/lib/python3.7/site-packages/pytorch_lightning/trainer/trainer.py\", line 707, in fit\n",
      "    self.run_pretrain_routine(model)\n",
      "  File \"/opt/conda/lib/python3.7/site-packages/pytorch_lightning/trainer/trainer.py\", line 757, in run_pretrain_routine\n",
      "    self.logger.log_hyperparams(ref_model.hparams)\n",
      "  File \"/opt/conda/lib/python3.7/site-packages/pytorch_lightning/logging/base.py\", line 14, in wrapped_fn\n",
      "    fn(self, *args, **kwargs)\n",
      "  File \"/opt/conda/lib/python3.7/site-packages/pytorch_lightning/logging/tensorboard.py\", line 88, in log_hyperparams\n",
      "    self.experiment.add_hparams(hparam_dict=params, metric_dict={})\n",
      "  File \"/opt/conda/lib/python3.7/site-packages/torch/utils/tensorboard/writer.py\", line 300, in add_hparams\n",
      "    exp, ssi, sei = hparams(hparam_dict, metric_dict)\n",
      "  File \"/opt/conda/lib/python3.7/site-packages/torch/utils/tensorboard/summary.py\", line 156, in hparams\n",
      "    raise ValueError('value should be one of int, float, str, bool, or torch.Tensor')\n",
      "ValueError: value should be one of int, float, str, bool, or torch.Tensor\n"
     ]
    }
   ],
   "source": [
    "%cd /workspace/DSANet\n",
    "# !pip install -r requirements.txt\n",
    "!python single_cpu_trainer.py --data_name Pollution --n_multiv 7"
   ]
  }
 ],
 "metadata": {
  "kernelspec": {
   "display_name": "Python 3",
   "language": "python",
   "name": "python3"
  },
  "language_info": {
   "codemirror_mode": {
    "name": "ipython",
    "version": 3
   },
   "file_extension": ".py",
   "mimetype": "text/x-python",
   "name": "python",
   "nbconvert_exporter": "python",
   "pygments_lexer": "ipython3",
   "version": "3.7.4"
  }
 },
 "nbformat": 4,
 "nbformat_minor": 4
}
